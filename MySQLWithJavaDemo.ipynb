{
 "cells": [
  {
   "cell_type": "markdown",
   "id": "de0bd271",
   "metadata": {
    "kernel": "SoS",
    "tags": []
   },
   "source": [
    "# MySQL with Java Demo"
   ]
  },
  {
   "cell_type": "markdown",
   "id": "ac433bc1",
   "metadata": {
    "kernel": "SoS"
   },
   "source": [
    "## Start MySQL server\n",
    "- if first attempt fails, try again :-)"
   ]
  },
  {
   "cell_type": "code",
   "execution_count": null,
   "id": "78cf98c9",
   "metadata": {
    "kernel": "Bash",
    "tags": []
   },
   "outputs": [],
   "source": [
    "/home/student/mysql/start_mysql.sh"
   ]
  },
  {
   "cell_type": "code",
   "execution_count": null,
   "id": "34ea59c0",
   "metadata": {
    "kernel": "Java",
    "tags": []
   },
   "outputs": [],
   "source": [
    "%%loadFromPOM\n",
    "<dependency>\n",
    "    <groupId>mysql</groupId>\n",
    "    <artifactId>mysql-connector-java</artifactId>\n",
    "    <version>8.0.22</version>\n",
    "</dependency>"
   ]
  },
  {
   "cell_type": "code",
   "execution_count": null,
   "id": "85413108",
   "metadata": {
    "kernel": "Java",
    "tags": []
   },
   "outputs": [],
   "source": [
    "import java.sql.*;\n",
    "\n",
    "try\n",
    "{  \n",
    "    Class.forName(\"com.mysql.cj.jdbc.Driver\");  \n",
    "    Connection con=DriverManager.getConnection(\"jdbc:mysql://127.0.0.1:3306\",\"student\",\"8070stud\");  \n",
    "    Statement stmt=con.createStatement();  \n",
    "    ResultSet rs=stmt.executeQuery(\"show databases;\");  \n",
    "    while(rs.next())\n",
    "    {\n",
    "        System.out.println(rs.getString(1));\n",
    "    }\n",
    "    con.close();\n",
    "}\n",
    "catch(Exception e)\n",
    "{ \n",
    "    System.out.println(e);\n",
    "}  "
   ]
  },
  {
   "cell_type": "code",
   "execution_count": null,
   "id": "6499120d",
   "metadata": {
    "kernel": "Java"
   },
   "outputs": [],
   "source": []
  }
 ],
 "metadata": {
  "kernelspec": {
   "display_name": "SoS",
   "language": "sos",
   "name": "sos"
  },
  "language_info": {
   "codemirror_mode": "sos",
   "file_extension": ".sos",
   "mimetype": "text/x-sos",
   "name": "sos",
   "nbconvert_exporter": "sos_notebook.converter.SoS_Exporter",
   "pygments_lexer": "sos"
  },
  "sos": {
   "kernels": [
    [
     "Bash",
     "bash",
     "Bash",
     "#E6EEFF",
     "shell"
    ],
    [
     "Java",
     "java",
     "java",
     "",
     ""
    ]
   ],
   "version": "0.22.4"
  }
 },
 "nbformat": 4,
 "nbformat_minor": 5
}
